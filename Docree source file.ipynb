{
 "cells": [
  {
   "cell_type": "code",
   "execution_count": 1,
   "id": "5b5d2a8f",
   "metadata": {},
   "outputs": [],
   "source": [
    "#importing necessary libraries like pandas, numpy, matplotlib, seaborn and sklearn \n",
    "import pandas as pd\n",
    "import numpy as np\n",
    "import matplotlib.pyplot as plt\n",
    "%matplotlib inline\n",
    "import seaborn as sns\n",
    "import warnings\n",
    "warnings.filterwarnings('ignore')"
   ]
  },
  {
   "cell_type": "code",
   "execution_count": 2,
   "id": "418fa917",
   "metadata": {},
   "outputs": [],
   "source": [
    "#Reading dataset to this notebook\n",
    "df = pd.read_csv('C:\\\\Users\\\\nithi\\\\Downloads\\\\Docereetrain.csv',encoding = \"ISO-8859-1\")"
   ]
  },
  {
   "cell_type": "code",
   "execution_count": 3,
   "id": "da41217c",
   "metadata": {},
   "outputs": [
    {
     "data": {
      "text/html": [
       "<div>\n",
       "<style scoped>\n",
       "    .dataframe tbody tr th:only-of-type {\n",
       "        vertical-align: middle;\n",
       "    }\n",
       "\n",
       "    .dataframe tbody tr th {\n",
       "        vertical-align: top;\n",
       "    }\n",
       "\n",
       "    .dataframe thead th {\n",
       "        text-align: right;\n",
       "    }\n",
       "</style>\n",
       "<table border=\"1\" class=\"dataframe\">\n",
       "  <thead>\n",
       "    <tr style=\"text-align: right;\">\n",
       "      <th></th>\n",
       "      <th>ID</th>\n",
       "      <th>DEVICETYPE</th>\n",
       "      <th>PLATFORM_ID</th>\n",
       "      <th>BIDREQUESTIP</th>\n",
       "      <th>USERPLATFORMUID</th>\n",
       "      <th>USERCITY</th>\n",
       "      <th>USERZIPCODE</th>\n",
       "      <th>USERAGENT</th>\n",
       "      <th>PLATFORMTYPE</th>\n",
       "      <th>CHANNELTYPE</th>\n",
       "      <th>URL</th>\n",
       "      <th>KEYWORDS</th>\n",
       "      <th>TAXONOMY</th>\n",
       "      <th>IS_HCP</th>\n",
       "    </tr>\n",
       "  </thead>\n",
       "  <tbody>\n",
       "    <tr>\n",
       "      <th>0</th>\n",
       "      <td>1001</td>\n",
       "      <td>Desktop</td>\n",
       "      <td>2</td>\n",
       "      <td>170.173.0.22</td>\n",
       "      <td>6974dcaa-f932-480e-9fb5-c52e20e1393a</td>\n",
       "      <td>Portland</td>\n",
       "      <td>97206.0</td>\n",
       "      <td>Mozilla/5.0 (Windows NT 10.0; Win64; x64) Appl...</td>\n",
       "      <td>Online Medical Journal</td>\n",
       "      <td>Website</td>\n",
       "      <td>https://www.cancertherapyadvisor.com/home/canc...</td>\n",
       "      <td>General|Endocrine|False|Medicine|Surgery|Urolo...</td>\n",
       "      <td>NaN</td>\n",
       "      <td>0.0</td>\n",
       "    </tr>\n",
       "    <tr>\n",
       "      <th>1</th>\n",
       "      <td>1002</td>\n",
       "      <td>Desktop</td>\n",
       "      <td>2</td>\n",
       "      <td>65.216.253.25</td>\n",
       "      <td>c12f3f8f-8fcf-484a-90e1-1ac04db8cdcf</td>\n",
       "      <td>Arlington</td>\n",
       "      <td>22202.0</td>\n",
       "      <td>Mozilla/5.0 (Macintosh; Intel Mac OS X 10_15_7...</td>\n",
       "      <td>Online Medical Journal</td>\n",
       "      <td>Website</td>\n",
       "      <td>https://www.cancertherapyadvisor.com/home/deci...</td>\n",
       "      <td>Bone Marrow|Radiography|Chronic|Oncology|Psych...</td>\n",
       "      <td>NaN</td>\n",
       "      <td>0.0</td>\n",
       "    </tr>\n",
       "    <tr>\n",
       "      <th>2</th>\n",
       "      <td>1003</td>\n",
       "      <td>Desktop</td>\n",
       "      <td>2</td>\n",
       "      <td>66.232.79.22</td>\n",
       "      <td>a698de4b-e200-46dd-b5fb-40402175ae18</td>\n",
       "      <td>New Meadows</td>\n",
       "      <td>83654.0</td>\n",
       "      <td>Mozilla/5.0 (Macintosh; Intel Mac OS X 10_15_7...</td>\n",
       "      <td>Online Medical Journal</td>\n",
       "      <td>Website</td>\n",
       "      <td>https://www.cancertherapyadvisor.com/home/canc...</td>\n",
       "      <td>General|Endocrine|False|Medicine|Surgery|Urolo...</td>\n",
       "      <td>NaN</td>\n",
       "      <td>0.0</td>\n",
       "    </tr>\n",
       "    <tr>\n",
       "      <th>3</th>\n",
       "      <td>1004</td>\n",
       "      <td>Desktop</td>\n",
       "      <td>3</td>\n",
       "      <td>137.54.125.246</td>\n",
       "      <td>45967533-75c8-4fbd-a00c-e6ff20447aaa</td>\n",
       "      <td>NaN</td>\n",
       "      <td>229114624.0</td>\n",
       "      <td>Mozilla/5.0 (Windows NT 10.0; Win64; x64) Appl...</td>\n",
       "      <td>Online Medical Journal</td>\n",
       "      <td>Website</td>\n",
       "      <td>https://globalrph.com/medcalcs/warfarin-mainte...</td>\n",
       "      <td>Dental|Total|Clinical|Pharmacology|Physicians|...</td>\n",
       "      <td>2084P0800X</td>\n",
       "      <td>1.0</td>\n",
       "    </tr>\n",
       "    <tr>\n",
       "      <th>4</th>\n",
       "      <td>1005</td>\n",
       "      <td>Mobile</td>\n",
       "      <td>7</td>\n",
       "      <td>174.202.231.99</td>\n",
       "      <td>a17e25be-532d-4cf5-b916-9308c8c3961f</td>\n",
       "      <td>Houston</td>\n",
       "      <td>77008.0</td>\n",
       "      <td>Mozilla/5.0 (iPhone; CPU iPhone OS 16_1_1 like...</td>\n",
       "      <td>Online Medical Journal</td>\n",
       "      <td>Website</td>\n",
       "      <td>https://www.cureus.com/articles/58184-a-review...</td>\n",
       "      <td>Critical Care|Emergency Medicine|General Pract...</td>\n",
       "      <td>NaN</td>\n",
       "      <td>0.0</td>\n",
       "    </tr>\n",
       "    <tr>\n",
       "      <th>...</th>\n",
       "      <td>...</td>\n",
       "      <td>...</td>\n",
       "      <td>...</td>\n",
       "      <td>...</td>\n",
       "      <td>...</td>\n",
       "      <td>...</td>\n",
       "      <td>...</td>\n",
       "      <td>...</td>\n",
       "      <td>...</td>\n",
       "      <td>...</td>\n",
       "      <td>...</td>\n",
       "      <td>...</td>\n",
       "      <td>...</td>\n",
       "      <td>...</td>\n",
       "    </tr>\n",
       "    <tr>\n",
       "      <th>113932</th>\n",
       "      <td>114933</td>\n",
       "      <td>Desktop</td>\n",
       "      <td>2</td>\n",
       "      <td>68.82.97.126</td>\n",
       "      <td>051e4a06-4cb4-4b97-b0b1-d1c6a2b8e2c2</td>\n",
       "      <td>Philadelphia</td>\n",
       "      <td>19120.0</td>\n",
       "      <td>Mozilla/5.0 (Macintosh; Intel Mac OS X 10_15_6...</td>\n",
       "      <td>Online Medical Journal</td>\n",
       "      <td>Website</td>\n",
       "      <td>https://www.clinicaladvisor.com/home/consultat...</td>\n",
       "      <td>Cardiovascular|Clinical|False|Male|Oncology|Ps...</td>\n",
       "      <td>207RP1001X</td>\n",
       "      <td>1.0</td>\n",
       "    </tr>\n",
       "    <tr>\n",
       "      <th>113933</th>\n",
       "      <td>114934</td>\n",
       "      <td>Desktop</td>\n",
       "      <td>2</td>\n",
       "      <td>104.172.11.109</td>\n",
       "      <td>3289bba5-4a50-4b61-a5cc-68596bbdc2bf</td>\n",
       "      <td>Van Nuys</td>\n",
       "      <td>914014213.0</td>\n",
       "      <td>Mozilla/5.0 (Windows NT 6.1; Win64; x64) Apple...</td>\n",
       "      <td>Online Medical Journal</td>\n",
       "      <td>Website</td>\n",
       "      <td>https://www.clinicaladvisor.com/home/features/...</td>\n",
       "      <td>Asthma|Arthritis|General|Clinical|Diagnosis|Rh...</td>\n",
       "      <td>2084P0800X</td>\n",
       "      <td>1.0</td>\n",
       "    </tr>\n",
       "    <tr>\n",
       "      <th>113934</th>\n",
       "      <td>114935</td>\n",
       "      <td>Desktop</td>\n",
       "      <td>7</td>\n",
       "      <td>174.21.94.113</td>\n",
       "      <td>9c36e90c-caa7-4323-8431-fb84f8293972</td>\n",
       "      <td>NaN</td>\n",
       "      <td>98105.0</td>\n",
       "      <td>Mozilla/5.0 (Macintosh; Intel Mac OS X 10_15_7...</td>\n",
       "      <td>Online Medical Journal</td>\n",
       "      <td>Website</td>\n",
       "      <td>https://www.cureus.com/articles/39455-whats-th...</td>\n",
       "      <td>Rehabilitation|Transplantation|Clinical|Preven...</td>\n",
       "      <td>208000000X</td>\n",
       "      <td>1.0</td>\n",
       "    </tr>\n",
       "    <tr>\n",
       "      <th>113935</th>\n",
       "      <td>114936</td>\n",
       "      <td>Mobile</td>\n",
       "      <td>2</td>\n",
       "      <td>69.253.129.131</td>\n",
       "      <td>afc27760-31f7-4f6e-aa08-90d8a96525d0</td>\n",
       "      <td>Wilmington</td>\n",
       "      <td>19808.0</td>\n",
       "      <td>Mozilla/5.0 (iPhone; CPU iPhone OS 15_6_1 like...</td>\n",
       "      <td>Online Medical Journal</td>\n",
       "      <td>Website</td>\n",
       "      <td>https://www.dermatologyadvisor.com/home/topics...</td>\n",
       "      <td>pain|disease|autoimmune|multiple sclerosis|gra...</td>\n",
       "      <td>2084P0800X</td>\n",
       "      <td>1.0</td>\n",
       "    </tr>\n",
       "    <tr>\n",
       "      <th>113936</th>\n",
       "      <td>114937</td>\n",
       "      <td>Mobile</td>\n",
       "      <td>2</td>\n",
       "      <td>108.41.233.175</td>\n",
       "      <td>d26887c5-15f9-4b72-80dc-728039529e60</td>\n",
       "      <td>White Plains</td>\n",
       "      <td>10605.0</td>\n",
       "      <td>Mozilla/5.0 (iPhone; CPU iPhone OS 16_1 like M...</td>\n",
       "      <td>Online Medical Journal</td>\n",
       "      <td>Website</td>\n",
       "      <td>https://www.medicalbag.com/</td>\n",
       "      <td>Genetic|Large|Autoimmune|Health|False|Abortion...</td>\n",
       "      <td>2084P0800X</td>\n",
       "      <td>1.0</td>\n",
       "    </tr>\n",
       "  </tbody>\n",
       "</table>\n",
       "<p>113937 rows × 14 columns</p>\n",
       "</div>"
      ],
      "text/plain": [
       "            ID DEVICETYPE  PLATFORM_ID    BIDREQUESTIP  \\\n",
       "0         1001    Desktop            2    170.173.0.22   \n",
       "1         1002    Desktop            2   65.216.253.25   \n",
       "2         1003    Desktop            2    66.232.79.22   \n",
       "3         1004    Desktop            3  137.54.125.246   \n",
       "4         1005     Mobile            7  174.202.231.99   \n",
       "...        ...        ...          ...             ...   \n",
       "113932  114933    Desktop            2    68.82.97.126   \n",
       "113933  114934    Desktop            2  104.172.11.109   \n",
       "113934  114935    Desktop            7   174.21.94.113   \n",
       "113935  114936     Mobile            2  69.253.129.131   \n",
       "113936  114937     Mobile            2  108.41.233.175   \n",
       "\n",
       "                             USERPLATFORMUID      USERCITY  USERZIPCODE  \\\n",
       "0       6974dcaa-f932-480e-9fb5-c52e20e1393a      Portland      97206.0   \n",
       "1       c12f3f8f-8fcf-484a-90e1-1ac04db8cdcf     Arlington      22202.0   \n",
       "2       a698de4b-e200-46dd-b5fb-40402175ae18   New Meadows      83654.0   \n",
       "3       45967533-75c8-4fbd-a00c-e6ff20447aaa           NaN  229114624.0   \n",
       "4       a17e25be-532d-4cf5-b916-9308c8c3961f       Houston      77008.0   \n",
       "...                                      ...           ...          ...   \n",
       "113932  051e4a06-4cb4-4b97-b0b1-d1c6a2b8e2c2  Philadelphia      19120.0   \n",
       "113933  3289bba5-4a50-4b61-a5cc-68596bbdc2bf      Van Nuys  914014213.0   \n",
       "113934  9c36e90c-caa7-4323-8431-fb84f8293972           NaN      98105.0   \n",
       "113935  afc27760-31f7-4f6e-aa08-90d8a96525d0    Wilmington      19808.0   \n",
       "113936  d26887c5-15f9-4b72-80dc-728039529e60  White Plains      10605.0   \n",
       "\n",
       "                                                USERAGENT  \\\n",
       "0       Mozilla/5.0 (Windows NT 10.0; Win64; x64) Appl...   \n",
       "1       Mozilla/5.0 (Macintosh; Intel Mac OS X 10_15_7...   \n",
       "2       Mozilla/5.0 (Macintosh; Intel Mac OS X 10_15_7...   \n",
       "3       Mozilla/5.0 (Windows NT 10.0; Win64; x64) Appl...   \n",
       "4       Mozilla/5.0 (iPhone; CPU iPhone OS 16_1_1 like...   \n",
       "...                                                   ...   \n",
       "113932  Mozilla/5.0 (Macintosh; Intel Mac OS X 10_15_6...   \n",
       "113933  Mozilla/5.0 (Windows NT 6.1; Win64; x64) Apple...   \n",
       "113934  Mozilla/5.0 (Macintosh; Intel Mac OS X 10_15_7...   \n",
       "113935  Mozilla/5.0 (iPhone; CPU iPhone OS 15_6_1 like...   \n",
       "113936  Mozilla/5.0 (iPhone; CPU iPhone OS 16_1 like M...   \n",
       "\n",
       "                  PLATFORMTYPE CHANNELTYPE  \\\n",
       "0       Online Medical Journal     Website   \n",
       "1       Online Medical Journal     Website   \n",
       "2       Online Medical Journal     Website   \n",
       "3       Online Medical Journal     Website   \n",
       "4       Online Medical Journal     Website   \n",
       "...                        ...         ...   \n",
       "113932  Online Medical Journal     Website   \n",
       "113933  Online Medical Journal     Website   \n",
       "113934  Online Medical Journal     Website   \n",
       "113935  Online Medical Journal     Website   \n",
       "113936  Online Medical Journal     Website   \n",
       "\n",
       "                                                      URL  \\\n",
       "0       https://www.cancertherapyadvisor.com/home/canc...   \n",
       "1       https://www.cancertherapyadvisor.com/home/deci...   \n",
       "2       https://www.cancertherapyadvisor.com/home/canc...   \n",
       "3       https://globalrph.com/medcalcs/warfarin-mainte...   \n",
       "4       https://www.cureus.com/articles/58184-a-review...   \n",
       "...                                                   ...   \n",
       "113932  https://www.clinicaladvisor.com/home/consultat...   \n",
       "113933  https://www.clinicaladvisor.com/home/features/...   \n",
       "113934  https://www.cureus.com/articles/39455-whats-th...   \n",
       "113935  https://www.dermatologyadvisor.com/home/topics...   \n",
       "113936                        https://www.medicalbag.com/   \n",
       "\n",
       "                                                 KEYWORDS    TAXONOMY  IS_HCP  \n",
       "0       General|Endocrine|False|Medicine|Surgery|Urolo...         NaN     0.0  \n",
       "1       Bone Marrow|Radiography|Chronic|Oncology|Psych...         NaN     0.0  \n",
       "2       General|Endocrine|False|Medicine|Surgery|Urolo...         NaN     0.0  \n",
       "3       Dental|Total|Clinical|Pharmacology|Physicians|...  2084P0800X     1.0  \n",
       "4       Critical Care|Emergency Medicine|General Pract...         NaN     0.0  \n",
       "...                                                   ...         ...     ...  \n",
       "113932  Cardiovascular|Clinical|False|Male|Oncology|Ps...  207RP1001X     1.0  \n",
       "113933  Asthma|Arthritis|General|Clinical|Diagnosis|Rh...  2084P0800X     1.0  \n",
       "113934  Rehabilitation|Transplantation|Clinical|Preven...  208000000X     1.0  \n",
       "113935  pain|disease|autoimmune|multiple sclerosis|gra...  2084P0800X     1.0  \n",
       "113936  Genetic|Large|Autoimmune|Health|False|Abortion...  2084P0800X     1.0  \n",
       "\n",
       "[113937 rows x 14 columns]"
      ]
     },
     "execution_count": 3,
     "metadata": {},
     "output_type": "execute_result"
    }
   ],
   "source": [
    "#print dataset\n",
    "df"
   ]
  },
  {
   "cell_type": "code",
   "execution_count": 4,
   "id": "90990ed4",
   "metadata": {},
   "outputs": [
    {
     "data": {
      "text/plain": [
       "Index(['ID', 'DEVICETYPE', 'PLATFORM_ID', 'BIDREQUESTIP', 'USERPLATFORMUID',\n",
       "       'USERCITY', 'USERZIPCODE', 'USERAGENT', 'PLATFORMTYPE', 'CHANNELTYPE',\n",
       "       'URL', 'KEYWORDS', 'TAXONOMY', 'IS_HCP'],\n",
       "      dtype='object')"
      ]
     },
     "execution_count": 4,
     "metadata": {},
     "output_type": "execute_result"
    }
   ],
   "source": [
    "#To know which columns are present in the dataset\n",
    "df.columns"
   ]
  },
  {
   "cell_type": "code",
   "execution_count": 5,
   "id": "b9e8b5c3",
   "metadata": {},
   "outputs": [
    {
     "name": "stdout",
     "output_type": "stream",
     "text": [
      "<class 'pandas.core.frame.DataFrame'>\n",
      "RangeIndex: 113937 entries, 0 to 113936\n",
      "Data columns (total 14 columns):\n",
      " #   Column           Non-Null Count   Dtype  \n",
      "---  ------           --------------   -----  \n",
      " 0   ID               113937 non-null  int64  \n",
      " 1   DEVICETYPE       113937 non-null  object \n",
      " 2   PLATFORM_ID      113937 non-null  int64  \n",
      " 3   BIDREQUESTIP     113937 non-null  object \n",
      " 4   USERPLATFORMUID  113933 non-null  object \n",
      " 5   USERCITY         107578 non-null  object \n",
      " 6   USERZIPCODE      109345 non-null  float64\n",
      " 7   USERAGENT        113935 non-null  object \n",
      " 8   PLATFORMTYPE     113937 non-null  object \n",
      " 9   CHANNELTYPE      113937 non-null  object \n",
      " 10  URL              113937 non-null  object \n",
      " 11  KEYWORDS         113937 non-null  object \n",
      " 12  TAXONOMY         32313 non-null   object \n",
      " 13  IS_HCP           113936 non-null  float64\n",
      "dtypes: float64(2), int64(2), object(10)\n",
      "memory usage: 12.2+ MB\n"
     ]
    }
   ],
   "source": [
    "#To know everything about dataset like data types etc..\n",
    "df.info()"
   ]
  },
  {
   "cell_type": "code",
   "execution_count": 6,
   "id": "ff5079af",
   "metadata": {},
   "outputs": [
    {
     "data": {
      "text/html": [
       "<div>\n",
       "<style scoped>\n",
       "    .dataframe tbody tr th:only-of-type {\n",
       "        vertical-align: middle;\n",
       "    }\n",
       "\n",
       "    .dataframe tbody tr th {\n",
       "        vertical-align: top;\n",
       "    }\n",
       "\n",
       "    .dataframe thead th {\n",
       "        text-align: right;\n",
       "    }\n",
       "</style>\n",
       "<table border=\"1\" class=\"dataframe\">\n",
       "  <thead>\n",
       "    <tr style=\"text-align: right;\">\n",
       "      <th></th>\n",
       "      <th>ID</th>\n",
       "      <th>PLATFORM_ID</th>\n",
       "      <th>USERZIPCODE</th>\n",
       "      <th>IS_HCP</th>\n",
       "    </tr>\n",
       "  </thead>\n",
       "  <tbody>\n",
       "    <tr>\n",
       "      <th>count</th>\n",
       "      <td>113937.000000</td>\n",
       "      <td>113937.000000</td>\n",
       "      <td>1.093450e+05</td>\n",
       "      <td>113936.000000</td>\n",
       "    </tr>\n",
       "    <tr>\n",
       "      <th>mean</th>\n",
       "      <td>57969.000000</td>\n",
       "      <td>3.574993</td>\n",
       "      <td>1.830240e+07</td>\n",
       "      <td>0.299993</td>\n",
       "    </tr>\n",
       "    <tr>\n",
       "      <th>std</th>\n",
       "      <td>32890.923148</td>\n",
       "      <td>2.569019</td>\n",
       "      <td>1.066908e+08</td>\n",
       "      <td>0.458257</td>\n",
       "    </tr>\n",
       "    <tr>\n",
       "      <th>min</th>\n",
       "      <td>1001.000000</td>\n",
       "      <td>1.000000</td>\n",
       "      <td>6.020000e+02</td>\n",
       "      <td>0.000000</td>\n",
       "    </tr>\n",
       "    <tr>\n",
       "      <th>25%</th>\n",
       "      <td>29485.000000</td>\n",
       "      <td>2.000000</td>\n",
       "      <td>1.935500e+04</td>\n",
       "      <td>0.000000</td>\n",
       "    </tr>\n",
       "    <tr>\n",
       "      <th>50%</th>\n",
       "      <td>57969.000000</td>\n",
       "      <td>2.000000</td>\n",
       "      <td>4.321000e+04</td>\n",
       "      <td>0.000000</td>\n",
       "    </tr>\n",
       "    <tr>\n",
       "      <th>75%</th>\n",
       "      <td>86453.000000</td>\n",
       "      <td>6.000000</td>\n",
       "      <td>7.709000e+04</td>\n",
       "      <td>1.000000</td>\n",
       "    </tr>\n",
       "    <tr>\n",
       "      <th>max</th>\n",
       "      <td>114937.000000</td>\n",
       "      <td>16.000000</td>\n",
       "      <td>9.970149e+08</td>\n",
       "      <td>1.000000</td>\n",
       "    </tr>\n",
       "  </tbody>\n",
       "</table>\n",
       "</div>"
      ],
      "text/plain": [
       "                  ID    PLATFORM_ID   USERZIPCODE         IS_HCP\n",
       "count  113937.000000  113937.000000  1.093450e+05  113936.000000\n",
       "mean    57969.000000       3.574993  1.830240e+07       0.299993\n",
       "std     32890.923148       2.569019  1.066908e+08       0.458257\n",
       "min      1001.000000       1.000000  6.020000e+02       0.000000\n",
       "25%     29485.000000       2.000000  1.935500e+04       0.000000\n",
       "50%     57969.000000       2.000000  4.321000e+04       0.000000\n",
       "75%     86453.000000       6.000000  7.709000e+04       1.000000\n",
       "max    114937.000000      16.000000  9.970149e+08       1.000000"
      ]
     },
     "execution_count": 6,
     "metadata": {},
     "output_type": "execute_result"
    }
   ],
   "source": [
    "#To get the summary of the dataset\n",
    "df.describe()"
   ]
  },
  {
   "cell_type": "code",
   "execution_count": 7,
   "id": "324bd625",
   "metadata": {},
   "outputs": [
    {
     "name": "stdout",
     "output_type": "stream",
     "text": [
      "ID--113937\n",
      "DEVICETYPE--4\n",
      "PLATFORM_ID--15\n",
      "BIDREQUESTIP--33664\n",
      "USERPLATFORMUID--53780\n",
      "USERCITY--4420\n",
      "USERZIPCODE--11278\n",
      "USERAGENT--4288\n",
      "PLATFORMTYPE--5\n",
      "CHANNELTYPE--1\n",
      "URL--5231\n",
      "KEYWORDS--2460\n",
      "TAXONOMY--207\n",
      "IS_HCP--2\n"
     ]
    }
   ],
   "source": [
    "#To know how many unique values of are present in each columns\n",
    "for i in df.columns:\n",
    "    print(i,end='--')\n",
    "    print(df[i].nunique())"
   ]
  },
  {
   "cell_type": "code",
   "execution_count": 8,
   "id": "1c09f498",
   "metadata": {},
   "outputs": [
    {
     "data": {
      "text/plain": [
       "0         Mozilla/5.0 (Windows NT 10.0; Win64; x64) Appl...\n",
       "1         Mozilla/5.0 (Macintosh; Intel Mac OS X 10_15_7...\n",
       "2         Mozilla/5.0 (Macintosh; Intel Mac OS X 10_15_7...\n",
       "3         Mozilla/5.0 (Windows NT 10.0; Win64; x64) Appl...\n",
       "4         Mozilla/5.0 (iPhone; CPU iPhone OS 16_1_1 like...\n",
       "                                ...                        \n",
       "113932    Mozilla/5.0 (Macintosh; Intel Mac OS X 10_15_6...\n",
       "113933    Mozilla/5.0 (Windows NT 6.1; Win64; x64) Apple...\n",
       "113934    Mozilla/5.0 (Macintosh; Intel Mac OS X 10_15_7...\n",
       "113935    Mozilla/5.0 (iPhone; CPU iPhone OS 15_6_1 like...\n",
       "113936    Mozilla/5.0 (iPhone; CPU iPhone OS 16_1 like M...\n",
       "Name: USERAGENT, Length: 113937, dtype: object"
      ]
     },
     "execution_count": 8,
     "metadata": {},
     "output_type": "execute_result"
    }
   ],
   "source": [
    "#To getting single column info\n",
    "df['USERAGENT']"
   ]
  },
  {
   "cell_type": "code",
   "execution_count": 9,
   "id": "e23e7b89",
   "metadata": {},
   "outputs": [
    {
     "data": {
      "text/plain": [
       "0                NaN\n",
       "1                NaN\n",
       "2                NaN\n",
       "3         2084P0800X\n",
       "4                NaN\n",
       "             ...    \n",
       "113932    207RP1001X\n",
       "113933    2084P0800X\n",
       "113934    208000000X\n",
       "113935    2084P0800X\n",
       "113936    2084P0800X\n",
       "Name: TAXONOMY, Length: 113937, dtype: object"
      ]
     },
     "execution_count": 9,
     "metadata": {},
     "output_type": "execute_result"
    }
   ],
   "source": [
    "df['TAXONOMY']"
   ]
  },
  {
   "cell_type": "code",
   "execution_count": 10,
   "id": "284247f0",
   "metadata": {},
   "outputs": [],
   "source": [
    "#To encoding categorial to numerical features\n",
    "from sklearn.preprocessing import LabelEncoder\n",
    "le=LabelEncoder()"
   ]
  },
  {
   "cell_type": "code",
   "execution_count": 11,
   "id": "91291d08",
   "metadata": {},
   "outputs": [],
   "source": [
    "list=['DEVICETYPE','PLATFORMTYPE','CHANNELTYPE','KEYWORDS']\n",
    "for i in list:\n",
    "    df[i]=le.fit_transform(df[i])"
   ]
  },
  {
   "cell_type": "code",
   "execution_count": 12,
   "id": "3a67f6b3",
   "metadata": {},
   "outputs": [
    {
     "name": "stdout",
     "output_type": "stream",
     "text": [
      "Category of Values in Device type [0 1 2 3]\n",
      "Category of Values in Platform type [3 2 1 0 4]\n",
      "Category of Values in Channel type [0]\n"
     ]
    }
   ],
   "source": [
    "#All categorical are converted to numerical values\n",
    "a=df['DEVICETYPE'].unique()\n",
    "print(\"Category of Values in Device type\",a)\n",
    "b=df['PLATFORMTYPE'].unique()\n",
    "print(\"Category of Values in Platform type\",b)\n",
    "c=df['CHANNELTYPE'].unique()\n",
    "print(\"Category of Values in Channel type\",c)"
   ]
  },
  {
   "cell_type": "code",
   "execution_count": 13,
   "id": "3b77524c",
   "metadata": {},
   "outputs": [
    {
     "data": {
      "image/png": "[encoded data removed]",
      "text/plain": [
       "<Figure size 640x480 with 1 Axes>"
      ]
     },
     "metadata": {},
     "output_type": "display_data"
    },
    {
     "data": {
      "image/png": "[encoded data removed]",
      "text/plain": [
       "<Figure size 640x480 with 1 Axes>"
      ]
     },
     "metadata": {},
     "output_type": "display_data"
    },
    {
     "data": {
      "image/png": "[encoded data removed]",
      "text/plain": [
       "<Figure size 640x480 with 1 Axes>"
      ]
     },
     "metadata": {},
     "output_type": "display_data"
    }
   ],
   "source": [
    "#Plotting the distribution of data for the below three columns using seaborn\n",
    "list=['DEVICETYPE','PLATFORMTYPE','CHANNELTYPE']\n",
    "for i in list:\n",
    "    sns.distplot(df[i])\n",
    "    plt.title(\"Distribution of data in\" +i)\n",
    "    plt.show()    "
   ]
  },
  {
   "cell_type": "code",
   "execution_count": 14,
   "id": "4fbc10e2",
   "metadata": {},
   "outputs": [
    {
     "name": "stdout",
     "output_type": "stream",
     "text": [
      "<class 'pandas.core.frame.DataFrame'>\n",
      "RangeIndex: 113937 entries, 0 to 113936\n",
      "Data columns (total 6 columns):\n",
      " #   Column        Non-Null Count   Dtype  \n",
      "---  ------        --------------   -----  \n",
      " 0   DEVICETYPE    113937 non-null  int32  \n",
      " 1   PLATFORM_ID   113937 non-null  int64  \n",
      " 2   PLATFORMTYPE  113937 non-null  int32  \n",
      " 3   CHANNELTYPE   113937 non-null  int32  \n",
      " 4   KEYWORDS      113937 non-null  int32  \n",
      " 5   IS_HCP        113936 non-null  float64\n",
      "dtypes: float64(1), int32(4), int64(1)\n",
      "memory usage: 3.5 MB\n"
     ]
    }
   ],
   "source": [
    "#As below columns are not useful to predict helathcare professionals. so, we can drop that columns\n",
    "x_t=df.drop(['ID','BIDREQUESTIP','USERPLATFORMUID','USERCITY','USERZIPCODE','USERAGENT','URL','TAXONOMY',],axis=1)\n",
    "x_t.info()"
   ]
  },
  {
   "cell_type": "code",
   "execution_count": 15,
   "id": "f6469050",
   "metadata": {},
   "outputs": [
    {
     "data": {
      "text/plain": [
       "1"
      ]
     },
     "execution_count": 15,
     "metadata": {},
     "output_type": "execute_result"
    }
   ],
   "source": [
    "#To check any null values present in target column\n",
    "x_t['IS_HCP'].isnull().sum()\n",
    "#we are getting one null value. so, we have to remove that"
   ]
  },
  {
   "cell_type": "code",
   "execution_count": 16,
   "id": "0dc3c7df",
   "metadata": {
    "scrolled": true
   },
   "outputs": [],
   "source": [
    "#We are filling that na value with 1\n",
    "x_t['IS_HCP']=x_t['IS_HCP'].fillna(1)"
   ]
  },
  {
   "cell_type": "code",
   "execution_count": 17,
   "id": "facc5d4a",
   "metadata": {},
   "outputs": [
    {
     "data": {
      "text/plain": [
       "0"
      ]
     },
     "execution_count": 17,
     "metadata": {},
     "output_type": "execute_result"
    }
   ],
   "source": [
    "#Now no values are present\n",
    "x_t['IS_HCP'].isnull().sum()"
   ]
  },
  {
   "cell_type": "code",
   "execution_count": 18,
   "id": "a0b787ee",
   "metadata": {},
   "outputs": [],
   "source": [
    "#setting y to target column for prediction\n",
    "x_train=x_t.drop(['IS_HCP'],axis=1)\n",
    "y_train=x_t['IS_HCP']"
   ]
  },
  {
   "cell_type": "code",
   "execution_count": 19,
   "id": "47cc0255",
   "metadata": {},
   "outputs": [],
   "source": [
    "#To read test dataset\n",
    "df1=pd.read_csv('C:\\\\Users\\\\nithi\\\\Downloads\\\\Doceree-HCP_Test.csv',encoding = \"ISO-8859-1\")"
   ]
  },
  {
   "cell_type": "code",
   "execution_count": 20,
   "id": "201aedaa",
   "metadata": {},
   "outputs": [],
   "source": [
    "list=['DEVICETYPE','PLATFORMTYPE','CHANNELTYPE','KEYWORDS']\n",
    "for i in list:\n",
    "    df1[i]=le.fit_transform(df1[i])"
   ]
  },
  {
   "cell_type": "code",
   "execution_count": 21,
   "id": "29f572ec",
   "metadata": {},
   "outputs": [
    {
     "name": "stdout",
     "output_type": "stream",
     "text": [
      "<class 'pandas.core.frame.DataFrame'>\n",
      "RangeIndex: 28493 entries, 0 to 28492\n",
      "Data columns (total 12 columns):\n",
      " #   Column           Non-Null Count  Dtype  \n",
      "---  ------           --------------  -----  \n",
      " 0   ID               28493 non-null  int64  \n",
      " 1   DEVICETYPE       28493 non-null  int32  \n",
      " 2   PLATFORM_ID      28493 non-null  int64  \n",
      " 3   BIDREQUESTIP     28493 non-null  object \n",
      " 4   USERPLATFORMUID  28493 non-null  object \n",
      " 5   USERCITY         26934 non-null  object \n",
      " 6   USERZIPCODE      27378 non-null  float64\n",
      " 7   USERAGENT        28492 non-null  object \n",
      " 8   PLATFORMTYPE     28493 non-null  int32  \n",
      " 9   CHANNELTYPE      28493 non-null  int32  \n",
      " 10  URL              28493 non-null  object \n",
      " 11  KEYWORDS         28493 non-null  int32  \n",
      "dtypes: float64(1), int32(4), int64(2), object(5)\n",
      "memory usage: 2.2+ MB\n"
     ]
    }
   ],
   "source": [
    "#to get to know info about test datset\n",
    "df1.info()"
   ]
  },
  {
   "cell_type": "code",
   "execution_count": 22,
   "id": "bfb49b2b",
   "metadata": {},
   "outputs": [],
   "source": [
    "#samething like we are dropping unusual columns from testdataset also\n",
    "x_test=df1.drop(['ID','BIDREQUESTIP','USERPLATFORMUID','USERCITY','USERZIPCODE','USERAGENT','URL'],axis=1)"
   ]
  },
  {
   "cell_type": "code",
   "execution_count": 30,
   "id": "7a5093ae",
   "metadata": {},
   "outputs": [],
   "source": [
    "#Load the Random forest classifier algorithm and creating instance\n",
    "from sklearn.ensemble import RandomForestClassifier\n",
    "rf=RandomForestClassifier(n_estimators=200,max_depth=4,random_state=0)"
   ]
  },
  {
   "cell_type": "code",
   "execution_count": 31,
   "id": "199e926c",
   "metadata": {},
   "outputs": [],
   "source": [
    "#Fitting the model for training dataset\n",
    "model1=rf.fit(x_train,y_train)"
   ]
  },
  {
   "cell_type": "code",
   "execution_count": 32,
   "id": "b35281e4",
   "metadata": {},
   "outputs": [
    {
     "data": {
      "image/png": "[encoded data removed]",
      "text/plain": [
       "<Figure size 1000x800 with 1 Axes>"
      ]
     },
     "metadata": {},
     "output_type": "display_data"
    }
   ],
   "source": [
    "#To get to know the which feature is more important for prediciton\n",
    "i_df=pd.DataFrame({ \n",
    "    \"Feature Name\" : x_train.columns,\n",
    "    \"Importance\" : rf.feature_importances_\n",
    "})    \n",
    "f1=i_df.sort_values(by=\"Importance\",ascending=False)\n",
    "f2=f1.head(10)\n",
    "plt.figure(figsize=(10,8))\n",
    "sns.barplot(data=f2,x=\"Importance\",y=\"Feature Name\")\n",
    "plt.title(\"Importance of Features for this robust model\")\n",
    "plt.xlabel(\"Importance\",fontsize=16)\n",
    "plt.ylabel(\"Feature Name\",fontsize=16)\n",
    "plt.show()"
   ]
  },
  {
   "cell_type": "code",
   "execution_count": 33,
   "id": "1b636913",
   "metadata": {},
   "outputs": [],
   "source": [
    "#classifying the values for test dataset\n",
    "y_pred=model1.predict(x_test)"
   ]
  },
  {
   "cell_type": "code",
   "execution_count": 34,
   "id": "1037b994",
   "metadata": {},
   "outputs": [
    {
     "data": {
      "text/plain": [
       "array([0., 0., 0., ..., 0., 0., 0.])"
      ]
     },
     "execution_count": 34,
     "metadata": {},
     "output_type": "execute_result"
    }
   ],
   "source": [
    "#printing predicted values\n",
    "y_pred"
   ]
  },
  {
   "cell_type": "code",
   "execution_count": 35,
   "id": "dbdda3e8",
   "metadata": {},
   "outputs": [],
   "source": [
    "#creating a dataframe for predicted values\n",
    "b=pd.DataFrame(y_pred)"
   ]
  },
  {
   "cell_type": "code",
   "execution_count": 36,
   "id": "ef67a076",
   "metadata": {},
   "outputs": [
    {
     "name": "stdout",
     "output_type": "stream",
     "text": [
      "The Predicted Values are:          0\n",
      "0      0.0\n",
      "1      0.0\n",
      "2      0.0\n",
      "3      0.0\n",
      "4      0.0\n",
      "...    ...\n",
      "28488  0.0\n",
      "28489  0.0\n",
      "28490  0.0\n",
      "28491  0.0\n",
      "28492  0.0\n",
      "\n",
      "[28493 rows x 1 columns]\n"
     ]
    }
   ],
   "source": [
    "print(\"The Predicted Values are:\",b)"
   ]
  },
  {
   "cell_type": "code",
   "execution_count": 37,
   "id": "3cd89fb4",
   "metadata": {},
   "outputs": [],
   "source": [
    "a=df1['ID']"
   ]
  },
  {
   "cell_type": "code",
   "execution_count": 38,
   "id": "c820659f",
   "metadata": {},
   "outputs": [
    {
     "data": {
      "text/plain": [
       "0        115501\n",
       "1        115502\n",
       "2        115503\n",
       "3        115504\n",
       "4        115505\n",
       "          ...  \n",
       "28488    143989\n",
       "28489    143990\n",
       "28490    143991\n",
       "28491    143992\n",
       "28492    143993\n",
       "Name: ID, Length: 28493, dtype: int64"
      ]
     },
     "execution_count": 38,
     "metadata": {},
     "output_type": "execute_result"
    }
   ],
   "source": [
    "a"
   ]
  },
  {
   "cell_type": "code",
   "execution_count": 39,
   "id": "0b83d306",
   "metadata": {},
   "outputs": [],
   "source": [
    "frames=[a,b]"
   ]
  },
  {
   "cell_type": "code",
   "execution_count": 40,
   "id": "0394d9ea",
   "metadata": {},
   "outputs": [],
   "source": [
    "res=pd.concat(frames,axis=1)"
   ]
  },
  {
   "cell_type": "code",
   "execution_count": 41,
   "id": "03908889",
   "metadata": {},
   "outputs": [
    {
     "data": {
      "text/html": [
       "<div>\n",
       "<style scoped>\n",
       "    .dataframe tbody tr th:only-of-type {\n",
       "        vertical-align: middle;\n",
       "    }\n",
       "\n",
       "    .dataframe tbody tr th {\n",
       "        vertical-align: top;\n",
       "    }\n",
       "\n",
       "    .dataframe thead th {\n",
       "        text-align: right;\n",
       "    }\n",
       "</style>\n",
       "<table border=\"1\" class=\"dataframe\">\n",
       "  <thead>\n",
       "    <tr style=\"text-align: right;\">\n",
       "      <th></th>\n",
       "      <th>ID</th>\n",
       "      <th>0</th>\n",
       "    </tr>\n",
       "  </thead>\n",
       "  <tbody>\n",
       "    <tr>\n",
       "      <th>0</th>\n",
       "      <td>115501</td>\n",
       "      <td>0.0</td>\n",
       "    </tr>\n",
       "    <tr>\n",
       "      <th>1</th>\n",
       "      <td>115502</td>\n",
       "      <td>0.0</td>\n",
       "    </tr>\n",
       "    <tr>\n",
       "      <th>2</th>\n",
       "      <td>115503</td>\n",
       "      <td>0.0</td>\n",
       "    </tr>\n",
       "    <tr>\n",
       "      <th>3</th>\n",
       "      <td>115504</td>\n",
       "      <td>0.0</td>\n",
       "    </tr>\n",
       "    <tr>\n",
       "      <th>4</th>\n",
       "      <td>115505</td>\n",
       "      <td>0.0</td>\n",
       "    </tr>\n",
       "    <tr>\n",
       "      <th>...</th>\n",
       "      <td>...</td>\n",
       "      <td>...</td>\n",
       "    </tr>\n",
       "    <tr>\n",
       "      <th>28488</th>\n",
       "      <td>143989</td>\n",
       "      <td>0.0</td>\n",
       "    </tr>\n",
       "    <tr>\n",
       "      <th>28489</th>\n",
       "      <td>143990</td>\n",
       "      <td>0.0</td>\n",
       "    </tr>\n",
       "    <tr>\n",
       "      <th>28490</th>\n",
       "      <td>143991</td>\n",
       "      <td>0.0</td>\n",
       "    </tr>\n",
       "    <tr>\n",
       "      <th>28491</th>\n",
       "      <td>143992</td>\n",
       "      <td>0.0</td>\n",
       "    </tr>\n",
       "    <tr>\n",
       "      <th>28492</th>\n",
       "      <td>143993</td>\n",
       "      <td>0.0</td>\n",
       "    </tr>\n",
       "  </tbody>\n",
       "</table>\n",
       "<p>28493 rows × 2 columns</p>\n",
       "</div>"
      ],
      "text/plain": [
       "           ID    0\n",
       "0      115501  0.0\n",
       "1      115502  0.0\n",
       "2      115503  0.0\n",
       "3      115504  0.0\n",
       "4      115505  0.0\n",
       "...       ...  ...\n",
       "28488  143989  0.0\n",
       "28489  143990  0.0\n",
       "28490  143991  0.0\n",
       "28491  143992  0.0\n",
       "28492  143993  0.0\n",
       "\n",
       "[28493 rows x 2 columns]"
      ]
     },
     "execution_count": 41,
     "metadata": {},
     "output_type": "execute_result"
    }
   ],
   "source": [
    "res"
   ]
  },
  {
   "cell_type": "code",
   "execution_count": 42,
   "id": "e2e96a35",
   "metadata": {},
   "outputs": [],
   "source": [
    "#Finally saving our final results to csv format\n",
    "res.to_csv(\"C:\\\\Users\\\\nithi\\\\Downloads\\\\submission.csv\")"
   ]
  }
 ],
 "metadata": {
  "kernelspec": {
   "display_name": "Python 3 (ipykernel)",
   "language": "python",
   "name": "python3"
  },
  "language_info": {
   "codemirror_mode": {
    "name": "ipython",
    "version": 3
   },
   "file_extension": ".py",
   "mimetype": "text/x-python",
   "name": "python",
   "nbconvert_exporter": "python",
   "pygments_lexer": "ipython3",
   "version": "3.10.9"
  }
 },
 "nbformat": 4,
 "nbformat_minor": 5
}
